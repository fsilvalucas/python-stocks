{
 "cells": [
  {
   "cell_type": "code",
   "execution_count": 1,
   "id": "642ca461",
   "metadata": {},
   "outputs": [],
   "source": [
    "from sqlalchemy import create_engine\n",
    "from sqlalchemy.orm import sessionmaker"
   ]
  },
  {
   "cell_type": "code",
   "execution_count": 22,
   "id": "f36dd8dd",
   "metadata": {},
   "outputs": [],
   "source": [
    "url = 'mysql+mysqlconnector://{0}:{1}@{2}/{3}'.format(\n",
    "                'fsilva',\n",
    "                '1234',\n",
    "                'localhost:3306',\n",
    "                'production',\n",
    "            )\n",
    "        "
   ]
  },
  {
   "cell_type": "code",
   "execution_count": 23,
   "id": "78498f5a",
   "metadata": {},
   "outputs": [],
   "source": [
    "con = create_engine(url)"
   ]
  },
  {
   "cell_type": "code",
   "execution_count": 25,
   "id": "453c0a47",
   "metadata": {},
   "outputs": [
    {
     "name": "stderr",
     "output_type": "stream",
     "text": [
      "/tmp/ipykernel_11325/4035007467.py:1: SADeprecationWarning: The Engine.table_names() method is deprecated and will be removed in a future release.  Please refer to Inspector.get_table_names(). (deprecated since: 1.4)\n",
      "  con.table_names()\n"
     ]
    },
    {
     "data": {
      "text/plain": [
       "['Stocks', 'Users']"
      ]
     },
     "execution_count": 25,
     "metadata": {},
     "output_type": "execute_result"
    }
   ],
   "source": [
    "con.table_names()"
   ]
  },
  {
   "cell_type": "code",
   "execution_count": null,
   "id": "e74608d4",
   "metadata": {},
   "outputs": [],
   "source": []
  }
 ],
 "metadata": {
  "kernelspec": {
   "display_name": "Python 3 (ipykernel)",
   "language": "python",
   "name": "python3"
  },
  "language_info": {
   "codemirror_mode": {
    "name": "ipython",
    "version": 3
   },
   "file_extension": ".py",
   "mimetype": "text/x-python",
   "name": "python",
   "nbconvert_exporter": "python",
   "pygments_lexer": "ipython3",
   "version": "3.8.10"
  }
 },
 "nbformat": 4,
 "nbformat_minor": 5
}
